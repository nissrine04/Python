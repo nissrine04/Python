{
 "cells": [
  {
   "cell_type": "code",
   "execution_count": 1,
   "metadata": {},
   "outputs": [],
   "source": [
    "import random\n",
    "\n",
    "# L'utilisateur définit le nombre de nœuds\n",
    "n = 9\n",
    "\n",
    "# Génère une matrice de distances et la sauvegarde dans un fichier\n",
    "def generer_matrice_distance(n, fichier=\"graphe.text\"):\n",
    "    matrice = [[random.randint(1, 100) for _ in range(n)] for _ in range(n)]\n",
    "    for i in range(n):\n",
    "        for j in range(n):\n",
    "            matrice[j][i] = matrice[i][j]\n",
    "    for i in range(n):\n",
    "        matrice[i][i] = 0\n",
    "    with open(fichier, \"w\") as f:\n",
    "        f.write(f\"{n}\\n\")\n",
    "        for ligne in matrice:\n",
    "            f.write(\" \".join(map(str, ligne)) + \"\\n\")\n",
    "\n",
    "# Lit une matrice depuis le fichier\n",
    "def lire_matrice(fichier=\"graphe.text\"):\n",
    "    try:\n",
    "        with open(fichier, \"r\") as f:\n",
    "            n = int(f.readline().strip())\n",
    "            matrice = [list(map(int, ligne.split())) for ligne in f]\n",
    "            return n, matrice\n",
    "    except FileNotFoundError:\n",
    "        print(f\"Le fichier '{fichier}' n'existe pas.\")\n",
    "        return None, None\n",
    "\n",
    "# Affiche la matrice dans le fichier\n",
    "def afficher_matrice(n, matrice, fichier=\"graphe.text\"):\n",
    "    if matrice is not None:\n",
    "        with open(fichier, \"a\") as f:\n",
    "            f.write(f\"\\nNombre de nœuds : {n}\\n\")\n",
    "            f.write(\"Matrice des distances :\\n\")\n",
    "            for ligne in matrice:\n",
    "                f.write(\" \".join(map(str, ligne)) + \"\\n\")\n",
    "\n",
    "# Générer, lire et afficher la matrice\n",
    "generer_matrice_distance(n, fichier=\"graphe.text\")\n",
    "n, matrice = lire_matrice(fichier=\"graphe.text\")\n",
    "\n"
   ]
  },
  {
   "cell_type": "markdown",
   "metadata": {},
   "source": []
  },
  {
   "cell_type": "code",
   "execution_count": null,
   "metadata": {},
   "outputs": [],
   "source": []
  }
 ],
 "metadata": {
  "kernelspec": {
   "display_name": "Python 3",
   "language": "python",
   "name": "python3"
  },
  "language_info": {
   "codemirror_mode": {
    "name": "ipython",
    "version": 3
   },
   "file_extension": ".py",
   "mimetype": "text/x-python",
   "name": "python",
   "nbconvert_exporter": "python",
   "pygments_lexer": "ipython3",
   "version": "3.13.2"
  }
 },
 "nbformat": 4,
 "nbformat_minor": 2
}
